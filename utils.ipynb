{
 "cells": [
  {
   "cell_type": "code",
   "execution_count": 1,
   "metadata": {
    "collapsed": false
   },
   "outputs": [],
   "source": [
    "import csv\n",
    "import urllib\n",
    "import pandas as pd\n",
    "from bs4 import BeautifulSoup"
   ]
  },
  {
   "cell_type": "code",
   "execution_count": 2,
   "metadata": {
    "collapsed": false
   },
   "outputs": [],
   "source": [
    "soup = BeautifulSoup(urllib.request.urlopen('https://www.kaggle.com/c/outbrain-click-prediction/data'), \"lxml\")\n",
    "headers = [header.text for header in soup.findAll('th')]\n",
    "rows = []\n",
    "for row in soup.find(id=\"data-files\"):\n",
    "    rows.append([val.attrs['href'] for val in row.find_all_next('a', limit=11)])\n",
    "\n",
    "links = ['links']+(rows[0][0:11])\n",
    "\n",
    "with open('kaggle_outbrain_data_links.csv', 'w') as f:\n",
    "    writer = csv.writer(f, lineterminator='\\n')\n",
    "    for val in links:\n",
    "        writer.writerow([val])  \n"
   ]
  },
  {
   "cell_type": "code",
   "execution_count": 3,
   "metadata": {
    "collapsed": false
   },
   "outputs": [],
   "source": [
    "test = pd.read_csv(\"kaggle_outbrain_data_links.csv\")"
   ]
  },
  {
   "cell_type": "code",
   "execution_count": 4,
   "metadata": {
    "collapsed": false
   },
   "outputs": [],
   "source": [
    "test['filename'] = test['links'].str.replace(\"/c/outbrain-click-prediction/download/\",\"\").str.replace(\".zip\", \"\")\n",
    "test['links'] = test['links'].str.replace(\"/c/\", \"https://www.kaggle.com/c/\")"
   ]
  },
  {
   "cell_type": "code",
   "execution_count": 5,
   "metadata": {
    "collapsed": false
   },
   "outputs": [
    {
     "data": {
      "text/html": [
       "<div>\n",
       "<table border=\"1\" class=\"dataframe\">\n",
       "  <thead>\n",
       "    <tr style=\"text-align: right;\">\n",
       "      <th></th>\n",
       "      <th>links</th>\n",
       "      <th>filename</th>\n",
       "    </tr>\n",
       "  </thead>\n",
       "  <tbody>\n",
       "    <tr>\n",
       "      <th>0</th>\n",
       "      <td>https://www.kaggle.com/c/outbrain-click-predic...</td>\n",
       "      <td>documents_categories.csv</td>\n",
       "    </tr>\n",
       "    <tr>\n",
       "      <th>1</th>\n",
       "      <td>https://www.kaggle.com/c/outbrain-click-predic...</td>\n",
       "      <td>clicks_test.csv</td>\n",
       "    </tr>\n",
       "    <tr>\n",
       "      <th>2</th>\n",
       "      <td>https://www.kaggle.com/c/outbrain-click-predic...</td>\n",
       "      <td>documents_meta.csv</td>\n",
       "    </tr>\n",
       "    <tr>\n",
       "      <th>3</th>\n",
       "      <td>https://www.kaggle.com/c/outbrain-click-predic...</td>\n",
       "      <td>documents_entities.csv</td>\n",
       "    </tr>\n",
       "    <tr>\n",
       "      <th>4</th>\n",
       "      <td>https://www.kaggle.com/c/outbrain-click-predic...</td>\n",
       "      <td>promoted_content.csv</td>\n",
       "    </tr>\n",
       "  </tbody>\n",
       "</table>\n",
       "</div>"
      ],
      "text/plain": [
       "                                               links                  filename\n",
       "0  https://www.kaggle.com/c/outbrain-click-predic...  documents_categories.csv\n",
       "1  https://www.kaggle.com/c/outbrain-click-predic...           clicks_test.csv\n",
       "2  https://www.kaggle.com/c/outbrain-click-predic...        documents_meta.csv\n",
       "3  https://www.kaggle.com/c/outbrain-click-predic...    documents_entities.csv\n",
       "4  https://www.kaggle.com/c/outbrain-click-predic...      promoted_content.csv"
      ]
     },
     "execution_count": 5,
     "metadata": {},
     "output_type": "execute_result"
    }
   ],
   "source": [
    "test.to_csv(\"kaggle_outbrain_data_links.csv\")\n",
    "test.head() "
   ]
  },
  {
   "cell_type": "code",
   "execution_count": 6,
   "metadata": {
    "collapsed": true
   },
   "outputs": [],
   "source": [
    "import wget\n",
    "import os\n",
    "import zipfile\n",
    "import pandas as pd\n",
    "\n",
    "def download_if_needed(URL, filename):\n",
    "    \"\"\"\n",
    "    Download from URL to filename unless filename already exists\n",
    "    \"\"\"\n",
    "    if os.path.exists(filename):\n",
    "        print(filename, 'already exists')\n",
    "        return\n",
    "    else:\n",
    "        print('downloading', filename)\n",
    "        wget.download(URL)\n",
    "\n",
    "def get_documents_categories():\n",
    "    \"\"\"\n",
    "    Download pronto data, unless already downloaded\n",
    "    \"\"\"\n",
    "    links_data = pd.read_csv(\"kaggle_outbrain_data_links.csv\")\n",
    "    download_if_needed(links_data['links'][0],\n",
    "                       links_data['filename'][0])\n",
    "    zf = zipfile.ZipFile('documents_categories.csv.zip')\n",
    "    file_handle = zf.open('documents_categories.csv')\n",
    "    return pd.read_csv(file_handle)\n"
   ]
  },
  {
   "cell_type": "code",
   "execution_count": 7,
   "metadata": {
    "collapsed": false
   },
   "outputs": [],
   "source": [
    "#wget -x --load-cookies cookies.txt -P . -nH --cut-dirs=5 https://www.kaggle.com/c/outbrain-click-prediction/download/documents_categories.csv.zip"
   ]
  },
  {
   "cell_type": "code",
   "execution_count": 8,
   "metadata": {
    "collapsed": false
   },
   "outputs": [
    {
     "data": {
      "text/plain": [
       "200"
      ]
     },
     "execution_count": 8,
     "metadata": {},
     "output_type": "execute_result"
    }
   ],
   "source": [
    "import http.cookiejar, urllib.request\n",
    "cj = http.cookiejar.CookieJar()\n",
    "opener = urllib.request.build_opener(urllib.request.HTTPCookieProcessor(cj))\n",
    "r = opener.open(\"http://example.com/\")\n",
    "r.code"
   ]
  },
  {
   "cell_type": "markdown",
   "metadata": {
    "collapsed": true
   },
   "source": [
    "response from 1st place finisher about solution from event-recommendation-engine challenge: https://www.kaggle.com/c/event-recommendation-engine-challenge/forums/t/3894/solutions\n",
    "\n",
    "this competition was basically all about feature creation. So here is a list of my some of my features:\n",
    "\n",
    "* There were 3 different dates ( the start time of the event, the jointed_at date, the timestamp). I added all time differences between each dates. They were all important.\n",
    "* Additionally I extracted the year, month, day, hour and weekday of each date, but of these features had only a small impact.\n",
    "* I clustered all events using only the c_1, c_2, ..., c_n-features with kmeans (about 30 categories).\n",
    "* I counted how many events each user had in the train/test file (very important feature).\n",
    "* I defined similar users as users, which have about the same age, same timezone and same gender and counted how many of them had a yes/maybe/no/invited for the given event. However, these features had no big impact.\n",
    "* Country was important, too. I only used the 10 most common countries and put all others into the category \"Other\". I did the same for locale and city.\n",
    "* The \"usual\" stuff: Count of yes/maybe/no/invited of all friends and all other users. Lat and lng were very important as well\n",
    "* In the end I had about 60-70 features, which were all more or less important.\n",
    "\n",
    "With all these features I tried to predict the \"interested\"-column and for this I used the probability-output of a gbm. My aim was to minimize the LogLoss-error between my prediction and the actual solution. I never used the MAP-metric, because the lower the LogLoss-error the higher the MAP.\n",
    "\n",
    "The create a submission I ordered all events using my probability-prediction."
   ]
  },
  {
   "cell_type": "code",
   "execution_count": null,
   "metadata": {
    "collapsed": true
   },
   "outputs": [],
   "source": []
  }
 ],
 "metadata": {
  "anaconda-cloud": {},
  "kernelspec": {
   "display_name": "Python [default]",
   "language": "python",
   "name": "python3"
  },
  "language_info": {
   "codemirror_mode": {
    "name": "ipython",
    "version": 3
   },
   "file_extension": ".py",
   "mimetype": "text/x-python",
   "name": "python",
   "nbconvert_exporter": "python",
   "pygments_lexer": "ipython3",
   "version": "3.5.2"
  }
 },
 "nbformat": 4,
 "nbformat_minor": 1
}
